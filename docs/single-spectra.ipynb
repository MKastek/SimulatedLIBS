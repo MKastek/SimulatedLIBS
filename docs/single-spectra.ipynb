{
 "cells": [
  {
   "cell_type": "markdown",
   "id": "170aba58",
   "metadata": {},
   "source": [
    "### Installation"
   ]
  },
  {
   "cell_type": "code",
   "execution_count": 1,
   "id": "9184b1ed",
   "metadata": {},
   "outputs": [
    {
     "name": "stdout",
     "output_type": "stream",
     "text": [
      "Requirement already satisfied: SimulatedLIBS==0.1.4 in c:\\users\\marci\\anaconda3\\lib\\site-packages (0.1.4)\n",
      "Requirement already satisfied: pandas in c:\\users\\marci\\anaconda3\\lib\\site-packages (from SimulatedLIBS==0.1.4) (1.3.4)\n",
      "Requirement already satisfied: webdriver-manager in c:\\users\\marci\\anaconda3\\lib\\site-packages (from SimulatedLIBS==0.1.4) (3.8.3)\n",
      "Requirement already satisfied: matplotlib in c:\\users\\marci\\anaconda3\\lib\\site-packages (from SimulatedLIBS==0.1.4) (3.4.3)\n",
      "Requirement already satisfied: scipy in c:\\users\\marci\\anaconda3\\lib\\site-packages (from SimulatedLIBS==0.1.4) (1.7.1)\n",
      "Requirement already satisfied: numpy in c:\\users\\marci\\anaconda3\\lib\\site-packages (from SimulatedLIBS==0.1.4) (1.20.0)\n",
      "Requirement already satisfied: requests in c:\\users\\marci\\anaconda3\\lib\\site-packages (from SimulatedLIBS==0.1.4) (2.26.0)\n",
      "Requirement already satisfied: bs4 in c:\\users\\marci\\anaconda3\\lib\\site-packages (from SimulatedLIBS==0.1.4) (0.0.1)\n",
      "Requirement already satisfied: selenium in c:\\users\\marci\\anaconda3\\lib\\site-packages (from SimulatedLIBS==0.1.4) (4.4.0)\n",
      "Requirement already satisfied: beautifulsoup4 in c:\\users\\marci\\anaconda3\\lib\\site-packages (from bs4->SimulatedLIBS==0.1.4) (4.10.0)\n",
      "Requirement already satisfied: soupsieve>1.2 in c:\\users\\marci\\anaconda3\\lib\\site-packages (from beautifulsoup4->bs4->SimulatedLIBS==0.1.4) (2.2.1)\n",
      "Requirement already satisfied: python-dateutil>=2.7 in c:\\users\\marci\\anaconda3\\lib\\site-packages (from matplotlib->SimulatedLIBS==0.1.4) (2.8.2)\n",
      "Requirement already satisfied: pillow>=6.2.0 in c:\\users\\marci\\anaconda3\\lib\\site-packages (from matplotlib->SimulatedLIBS==0.1.4) (8.4.0)\n",
      "Requirement already satisfied: pyparsing>=2.2.1 in c:\\users\\marci\\anaconda3\\lib\\site-packages (from matplotlib->SimulatedLIBS==0.1.4) (3.0.4)\n",
      "Requirement already satisfied: kiwisolver>=1.0.1 in c:\\users\\marci\\anaconda3\\lib\\site-packages (from matplotlib->SimulatedLIBS==0.1.4) (1.3.1)\n",
      "Requirement already satisfied: cycler>=0.10 in c:\\users\\marci\\anaconda3\\lib\\site-packages (from matplotlib->SimulatedLIBS==0.1.4) (0.10.0)\n",
      "Requirement already satisfied: six in c:\\users\\marci\\anaconda3\\lib\\site-packages (from cycler>=0.10->matplotlib->SimulatedLIBS==0.1.4) (1.16.0)\n",
      "Requirement already satisfied: pytz>=2017.3 in c:\\users\\marci\\anaconda3\\lib\\site-packages (from pandas->SimulatedLIBS==0.1.4) (2021.3)\n",
      "Requirement already satisfied: charset-normalizer~=2.0.0 in c:\\users\\marci\\anaconda3\\lib\\site-packages (from requests->SimulatedLIBS==0.1.4) (2.0.4)\n",
      "Requirement already satisfied: certifi>=2017.4.17 in c:\\users\\marci\\anaconda3\\lib\\site-packages (from requests->SimulatedLIBS==0.1.4) (2021.10.8)\n",
      "Requirement already satisfied: urllib3<1.27,>=1.21.1 in c:\\users\\marci\\anaconda3\\lib\\site-packages (from requests->SimulatedLIBS==0.1.4) (1.26.7)\n",
      "Requirement already satisfied: idna<4,>=2.5 in c:\\users\\marci\\anaconda3\\lib\\site-packages (from requests->SimulatedLIBS==0.1.4) (3.2)\n",
      "Requirement already satisfied: trio-websocket~=0.9 in c:\\users\\marci\\anaconda3\\lib\\site-packages (from selenium->SimulatedLIBS==0.1.4) (0.9.2)\n",
      "Requirement already satisfied: trio~=0.17 in c:\\users\\marci\\anaconda3\\lib\\site-packages (from selenium->SimulatedLIBS==0.1.4) (0.21.0)\n",
      "Requirement already satisfied: sortedcontainers in c:\\users\\marci\\anaconda3\\lib\\site-packages (from trio~=0.17->selenium->SimulatedLIBS==0.1.4) (2.4.0)\n",
      "Requirement already satisfied: attrs>=19.2.0 in c:\\users\\marci\\anaconda3\\lib\\site-packages (from trio~=0.17->selenium->SimulatedLIBS==0.1.4) (21.2.0)\n",
      "Requirement already satisfied: async-generator>=1.9 in c:\\users\\marci\\anaconda3\\lib\\site-packages (from trio~=0.17->selenium->SimulatedLIBS==0.1.4) (1.10)\n",
      "Requirement already satisfied: cffi>=1.14 in c:\\users\\marci\\anaconda3\\lib\\site-packages (from trio~=0.17->selenium->SimulatedLIBS==0.1.4) (1.14.6)\n",
      "Requirement already satisfied: sniffio in c:\\users\\marci\\anaconda3\\lib\\site-packages (from trio~=0.17->selenium->SimulatedLIBS==0.1.4) (1.2.0)\n",
      "Requirement already satisfied: outcome in c:\\users\\marci\\anaconda3\\lib\\site-packages (from trio~=0.17->selenium->SimulatedLIBS==0.1.4) (1.2.0)\n",
      "Requirement already satisfied: pycparser in c:\\users\\marci\\anaconda3\\lib\\site-packages (from cffi>=1.14->trio~=0.17->selenium->SimulatedLIBS==0.1.4) (2.20)\n",
      "Requirement already satisfied: wsproto>=0.14 in c:\\users\\marci\\anaconda3\\lib\\site-packages (from trio-websocket~=0.9->selenium->SimulatedLIBS==0.1.4) (1.1.0)\n",
      "Requirement already satisfied: pyOpenSSL>=0.14 in c:\\users\\marci\\anaconda3\\lib\\site-packages (from urllib3<1.27,>=1.21.1->requests->SimulatedLIBS==0.1.4) (21.0.0)\n",
      "Requirement already satisfied: cryptography>=1.3.4 in c:\\users\\marci\\anaconda3\\lib\\site-packages (from urllib3<1.27,>=1.21.1->requests->SimulatedLIBS==0.1.4) (3.4.8)\n",
      "Requirement already satisfied: PySocks!=1.5.7,<2.0,>=1.5.6 in c:\\users\\marci\\anaconda3\\lib\\site-packages (from urllib3<1.27,>=1.21.1->requests->SimulatedLIBS==0.1.4) (1.7.1)\n",
      "Requirement already satisfied: h11<1,>=0.9.0 in c:\\users\\marci\\anaconda3\\lib\\site-packages (from wsproto>=0.14->trio-websocket~=0.9->selenium->SimulatedLIBS==0.1.4) (0.13.0)\n",
      "Requirement already satisfied: tqdm in c:\\users\\marci\\anaconda3\\lib\\site-packages (from webdriver-manager->SimulatedLIBS==0.1.4) (4.62.3)\n",
      "Requirement already satisfied: python-dotenv in c:\\users\\marci\\anaconda3\\lib\\site-packages (from webdriver-manager->SimulatedLIBS==0.1.4) (0.20.0)\n",
      "Requirement already satisfied: colorama in c:\\users\\marci\\anaconda3\\lib\\site-packages (from tqdm->webdriver-manager->SimulatedLIBS==0.1.4) (0.4.4)\n"
     ]
    }
   ],
   "source": [
    "import sys\n",
    "!{sys.executable} -m pip install SimulatedLIBS==0.1.4"
   ]
  },
  {
   "cell_type": "markdown",
   "id": "517c70c6",
   "metadata": {},
   "source": [
    "### Single simulation - default parameters"
   ]
  },
  {
   "cell_type": "code",
   "execution_count": 2,
   "id": "61cd642b",
   "metadata": {},
   "outputs": [],
   "source": [
    "from SimulatedLIBS import simulation"
   ]
  },
  {
   "cell_type": "code",
   "execution_count": 3,
   "id": "d5194794",
   "metadata": {},
   "outputs": [],
   "source": [
    "libs = simulation.SimulatedLIBS(elements=['Fe','Mo','Ni','Cr'], percentages=[90,5,3,2])"
   ]
  },
  {
   "cell_type": "code",
   "execution_count": 4,
   "id": "6fad2290",
   "metadata": {},
   "outputs": [
    {
     "name": "stdout",
     "output_type": "stream",
     "text": [
      "Te: '1.0' eV Ne: '1.000e+17' cm^-3  elements: '['Fe', 'Mo', 'Ni', 'Cr']' percentages: '[90, 5, 3, 2]'\n"
     ]
    }
   ],
   "source": [
    "print(libs)"
   ]
  },
  {
   "cell_type": "code",
   "execution_count": 5,
   "id": "32270d3f",
   "metadata": {},
   "outputs": [
    {
     "data": {
      "text/plain": [
       "\"SimulatedLIBS(Te: '1.0', Ne: '1.000e+17', elements: '['Fe', 'Mo', 'Ni', 'Cr']', percentages: '[90, 5, 3, 2]', resolution: '1000', low_w: '200', upper_w: '1000', max_ion_charge: '3', webscraping: 'static')\""
      ]
     },
     "execution_count": 5,
     "metadata": {},
     "output_type": "execute_result"
    }
   ],
   "source": [
    "repr(libs)"
   ]
  },
  {
   "cell_type": "code",
   "execution_count": 6,
   "id": "d64fa290",
   "metadata": {},
   "outputs": [
    {
     "data": {
      "image/png": "[encoded data removed]",
      "text/plain": [
       "<Figure size 432x288 with 1 Axes>"
      ]
     },
     "metadata": {
      "needs_background": "light"
     },
     "output_type": "display_data"
    }
   ],
   "source": [
    "libs.plot()"
   ]
  },
  {
   "cell_type": "code",
   "execution_count": 7,
   "id": "4109d8a7",
   "metadata": {},
   "outputs": [
    {
     "data": {
      "text/html": [
       "<div>\n",
       "<style scoped>\n",
       "    .dataframe tbody tr th:only-of-type {\n",
       "        vertical-align: middle;\n",
       "    }\n",
       "\n",
       "    .dataframe tbody tr th {\n",
       "        vertical-align: top;\n",
       "    }\n",
       "\n",
       "    .dataframe thead th {\n",
       "        text-align: right;\n",
       "    }\n",
       "</style>\n",
       "<table border=\"1\" class=\"dataframe\">\n",
       "  <thead>\n",
       "    <tr style=\"text-align: right;\">\n",
       "      <th></th>\n",
       "      <th>wavelength</th>\n",
       "      <th>intensity</th>\n",
       "    </tr>\n",
       "  </thead>\n",
       "  <tbody>\n",
       "    <tr>\n",
       "      <th>0</th>\n",
       "      <td>200.0</td>\n",
       "      <td>1.204e+03</td>\n",
       "    </tr>\n",
       "    <tr>\n",
       "      <th>1</th>\n",
       "      <td>200.3</td>\n",
       "      <td>1.417e+03</td>\n",
       "    </tr>\n",
       "    <tr>\n",
       "      <th>2</th>\n",
       "      <td>200.6</td>\n",
       "      <td>1.586e+03</td>\n",
       "    </tr>\n",
       "    <tr>\n",
       "      <th>3</th>\n",
       "      <td>200.9</td>\n",
       "      <td>1.706e+03</td>\n",
       "    </tr>\n",
       "    <tr>\n",
       "      <th>4</th>\n",
       "      <td>201.2</td>\n",
       "      <td>1.772e+03</td>\n",
       "    </tr>\n",
       "    <tr>\n",
       "      <th>...</th>\n",
       "      <td>...</td>\n",
       "      <td>...</td>\n",
       "    </tr>\n",
       "    <tr>\n",
       "      <th>2556</th>\n",
       "      <td>998.8</td>\n",
       "      <td>6.256e-07</td>\n",
       "    </tr>\n",
       "    <tr>\n",
       "      <th>2557</th>\n",
       "      <td>999.1</td>\n",
       "      <td>4.184e-07</td>\n",
       "    </tr>\n",
       "    <tr>\n",
       "      <th>2558</th>\n",
       "      <td>999.4</td>\n",
       "      <td>2.785e-07</td>\n",
       "    </tr>\n",
       "    <tr>\n",
       "      <th>2559</th>\n",
       "      <td>999.7</td>\n",
       "      <td>1.845e-07</td>\n",
       "    </tr>\n",
       "    <tr>\n",
       "      <th>2560</th>\n",
       "      <td>1000.0</td>\n",
       "      <td>1.216e-07</td>\n",
       "    </tr>\n",
       "  </tbody>\n",
       "</table>\n",
       "<p>2561 rows × 2 columns</p>\n",
       "</div>"
      ],
      "text/plain": [
       "     wavelength  intensity\n",
       "0         200.0  1.204e+03\n",
       "1         200.3  1.417e+03\n",
       "2         200.6  1.586e+03\n",
       "3         200.9  1.706e+03\n",
       "4         201.2  1.772e+03\n",
       "...         ...        ...\n",
       "2556      998.8  6.256e-07\n",
       "2557      999.1  4.184e-07\n",
       "2558      999.4  2.785e-07\n",
       "2559      999.7  1.845e-07\n",
       "2560     1000.0  1.216e-07\n",
       "\n",
       "[2561 rows x 2 columns]"
      ]
     },
     "execution_count": 7,
     "metadata": {},
     "output_type": "execute_result"
    }
   ],
   "source": [
    "libs.raw_spectrum"
   ]
  },
  {
   "cell_type": "code",
   "execution_count": 8,
   "id": "7e914379",
   "metadata": {},
   "outputs": [
    {
     "data": {
      "text/html": [
       "<div>\n",
       "<style scoped>\n",
       "    .dataframe tbody tr th:only-of-type {\n",
       "        vertical-align: middle;\n",
       "    }\n",
       "\n",
       "    .dataframe tbody tr th {\n",
       "        vertical-align: top;\n",
       "    }\n",
       "\n",
       "    .dataframe thead th {\n",
       "        text-align: right;\n",
       "    }\n",
       "</style>\n",
       "<table border=\"1\" class=\"dataframe\">\n",
       "  <thead>\n",
       "    <tr style=\"text-align: right;\">\n",
       "      <th></th>\n",
       "      <th>wavelength</th>\n",
       "      <th>intensity</th>\n",
       "    </tr>\n",
       "  </thead>\n",
       "  <tbody>\n",
       "    <tr>\n",
       "      <th>0</th>\n",
       "      <td>200.0</td>\n",
       "      <td>1.204e+03</td>\n",
       "    </tr>\n",
       "    <tr>\n",
       "      <th>1</th>\n",
       "      <td>200.3</td>\n",
       "      <td>1.417e+03</td>\n",
       "    </tr>\n",
       "    <tr>\n",
       "      <th>2</th>\n",
       "      <td>200.6</td>\n",
       "      <td>1.586e+03</td>\n",
       "    </tr>\n",
       "    <tr>\n",
       "      <th>3</th>\n",
       "      <td>200.9</td>\n",
       "      <td>1.706e+03</td>\n",
       "    </tr>\n",
       "    <tr>\n",
       "      <th>4</th>\n",
       "      <td>201.2</td>\n",
       "      <td>1.772e+03</td>\n",
       "    </tr>\n",
       "    <tr>\n",
       "      <th>...</th>\n",
       "      <td>...</td>\n",
       "      <td>...</td>\n",
       "    </tr>\n",
       "    <tr>\n",
       "      <th>2556</th>\n",
       "      <td>998.8</td>\n",
       "      <td>6.256e-07</td>\n",
       "    </tr>\n",
       "    <tr>\n",
       "      <th>2557</th>\n",
       "      <td>999.1</td>\n",
       "      <td>4.184e-07</td>\n",
       "    </tr>\n",
       "    <tr>\n",
       "      <th>2558</th>\n",
       "      <td>999.4</td>\n",
       "      <td>2.785e-07</td>\n",
       "    </tr>\n",
       "    <tr>\n",
       "      <th>2559</th>\n",
       "      <td>999.7</td>\n",
       "      <td>1.845e-07</td>\n",
       "    </tr>\n",
       "    <tr>\n",
       "      <th>2560</th>\n",
       "      <td>1000.0</td>\n",
       "      <td>1.216e-07</td>\n",
       "    </tr>\n",
       "  </tbody>\n",
       "</table>\n",
       "<p>2561 rows × 2 columns</p>\n",
       "</div>"
      ],
      "text/plain": [
       "     wavelength  intensity\n",
       "0         200.0  1.204e+03\n",
       "1         200.3  1.417e+03\n",
       "2         200.6  1.586e+03\n",
       "3         200.9  1.706e+03\n",
       "4         201.2  1.772e+03\n",
       "...         ...        ...\n",
       "2556      998.8  6.256e-07\n",
       "2557      999.1  4.184e-07\n",
       "2558      999.4  2.785e-07\n",
       "2559      999.7  1.845e-07\n",
       "2560     1000.0  1.216e-07\n",
       "\n",
       "[2561 rows x 2 columns]"
      ]
     },
     "execution_count": 8,
     "metadata": {},
     "output_type": "execute_result"
    }
   ],
   "source": [
    "libs.get_raw_spectrum()"
   ]
  },
  {
   "cell_type": "code",
   "execution_count": 9,
   "id": "1c0bf888",
   "metadata": {},
   "outputs": [
    {
     "data": {
      "text/html": [
       "<div>\n",
       "<style scoped>\n",
       "    .dataframe tbody tr th:only-of-type {\n",
       "        vertical-align: middle;\n",
       "    }\n",
       "\n",
       "    .dataframe tbody tr th {\n",
       "        vertical-align: top;\n",
       "    }\n",
       "\n",
       "    .dataframe thead th {\n",
       "        text-align: right;\n",
       "    }\n",
       "</style>\n",
       "<table border=\"1\" class=\"dataframe\">\n",
       "  <thead>\n",
       "    <tr style=\"text-align: right;\">\n",
       "      <th></th>\n",
       "      <th>wavelength</th>\n",
       "      <th>intensity</th>\n",
       "    </tr>\n",
       "  </thead>\n",
       "  <tbody>\n",
       "    <tr>\n",
       "      <th>0</th>\n",
       "      <td>200.0</td>\n",
       "      <td>1204.000</td>\n",
       "    </tr>\n",
       "    <tr>\n",
       "      <th>1</th>\n",
       "      <td>200.1</td>\n",
       "      <td>1277.690</td>\n",
       "    </tr>\n",
       "    <tr>\n",
       "      <th>2</th>\n",
       "      <td>200.2</td>\n",
       "      <td>1349.362</td>\n",
       "    </tr>\n",
       "    <tr>\n",
       "      <th>3</th>\n",
       "      <td>200.3</td>\n",
       "      <td>1417.000</td>\n",
       "    </tr>\n",
       "    <tr>\n",
       "      <th>4</th>\n",
       "      <td>200.4</td>\n",
       "      <td>1478.974</td>\n",
       "    </tr>\n",
       "    <tr>\n",
       "      <th>...</th>\n",
       "      <td>...</td>\n",
       "      <td>...</td>\n",
       "    </tr>\n",
       "    <tr>\n",
       "      <th>7995</th>\n",
       "      <td>999.5</td>\n",
       "      <td>0.000</td>\n",
       "    </tr>\n",
       "    <tr>\n",
       "      <th>7996</th>\n",
       "      <td>999.6</td>\n",
       "      <td>0.000</td>\n",
       "    </tr>\n",
       "    <tr>\n",
       "      <th>7997</th>\n",
       "      <td>999.7</td>\n",
       "      <td>0.000</td>\n",
       "    </tr>\n",
       "    <tr>\n",
       "      <th>7998</th>\n",
       "      <td>999.8</td>\n",
       "      <td>0.000</td>\n",
       "    </tr>\n",
       "    <tr>\n",
       "      <th>7999</th>\n",
       "      <td>999.9</td>\n",
       "      <td>0.000</td>\n",
       "    </tr>\n",
       "  </tbody>\n",
       "</table>\n",
       "<p>8000 rows × 2 columns</p>\n",
       "</div>"
      ],
      "text/plain": [
       "      wavelength  intensity\n",
       "0          200.0   1204.000\n",
       "1          200.1   1277.690\n",
       "2          200.2   1349.362\n",
       "3          200.3   1417.000\n",
       "4          200.4   1478.974\n",
       "...          ...        ...\n",
       "7995       999.5      0.000\n",
       "7996       999.6      0.000\n",
       "7997       999.7      0.000\n",
       "7998       999.8      0.000\n",
       "7999       999.9      0.000\n",
       "\n",
       "[8000 rows x 2 columns]"
      ]
     },
     "execution_count": 9,
     "metadata": {},
     "output_type": "execute_result"
    }
   ],
   "source": [
    "libs.interpolated_spectrum"
   ]
  },
  {
   "cell_type": "code",
   "execution_count": 10,
   "id": "11c2d825",
   "metadata": {},
   "outputs": [
    {
     "data": {
      "text/html": [
       "<div>\n",
       "<style scoped>\n",
       "    .dataframe tbody tr th:only-of-type {\n",
       "        vertical-align: middle;\n",
       "    }\n",
       "\n",
       "    .dataframe tbody tr th {\n",
       "        vertical-align: top;\n",
       "    }\n",
       "\n",
       "    .dataframe thead th {\n",
       "        text-align: right;\n",
       "    }\n",
       "</style>\n",
       "<table border=\"1\" class=\"dataframe\">\n",
       "  <thead>\n",
       "    <tr style=\"text-align: right;\">\n",
       "      <th></th>\n",
       "      <th>wavelength</th>\n",
       "      <th>intensity</th>\n",
       "    </tr>\n",
       "  </thead>\n",
       "  <tbody>\n",
       "    <tr>\n",
       "      <th>0</th>\n",
       "      <td>200.0</td>\n",
       "      <td>1204.000</td>\n",
       "    </tr>\n",
       "    <tr>\n",
       "      <th>1</th>\n",
       "      <td>200.1</td>\n",
       "      <td>1277.690</td>\n",
       "    </tr>\n",
       "    <tr>\n",
       "      <th>2</th>\n",
       "      <td>200.2</td>\n",
       "      <td>1349.362</td>\n",
       "    </tr>\n",
       "    <tr>\n",
       "      <th>3</th>\n",
       "      <td>200.3</td>\n",
       "      <td>1417.000</td>\n",
       "    </tr>\n",
       "    <tr>\n",
       "      <th>4</th>\n",
       "      <td>200.4</td>\n",
       "      <td>1478.974</td>\n",
       "    </tr>\n",
       "    <tr>\n",
       "      <th>...</th>\n",
       "      <td>...</td>\n",
       "      <td>...</td>\n",
       "    </tr>\n",
       "    <tr>\n",
       "      <th>7995</th>\n",
       "      <td>999.5</td>\n",
       "      <td>0.000</td>\n",
       "    </tr>\n",
       "    <tr>\n",
       "      <th>7996</th>\n",
       "      <td>999.6</td>\n",
       "      <td>0.000</td>\n",
       "    </tr>\n",
       "    <tr>\n",
       "      <th>7997</th>\n",
       "      <td>999.7</td>\n",
       "      <td>0.000</td>\n",
       "    </tr>\n",
       "    <tr>\n",
       "      <th>7998</th>\n",
       "      <td>999.8</td>\n",
       "      <td>0.000</td>\n",
       "    </tr>\n",
       "    <tr>\n",
       "      <th>7999</th>\n",
       "      <td>999.9</td>\n",
       "      <td>0.000</td>\n",
       "    </tr>\n",
       "  </tbody>\n",
       "</table>\n",
       "<p>8000 rows × 2 columns</p>\n",
       "</div>"
      ],
      "text/plain": [
       "      wavelength  intensity\n",
       "0          200.0   1204.000\n",
       "1          200.1   1277.690\n",
       "2          200.2   1349.362\n",
       "3          200.3   1417.000\n",
       "4          200.4   1478.974\n",
       "...          ...        ...\n",
       "7995       999.5      0.000\n",
       "7996       999.6      0.000\n",
       "7997       999.7      0.000\n",
       "7998       999.8      0.000\n",
       "7999       999.9      0.000\n",
       "\n",
       "[8000 rows x 2 columns]"
      ]
     },
     "execution_count": 10,
     "metadata": {},
     "output_type": "execute_result"
    }
   ],
   "source": [
    "libs.get_interpolated_spectrum()"
   ]
  },
  {
   "cell_type": "code",
   "execution_count": 11,
   "id": "b1c70615",
   "metadata": {},
   "outputs": [
    {
     "name": "stdout",
     "output_type": "stream",
     "text": [
      "Function works with webscraping parameter 'dynamic'\n"
     ]
    }
   ],
   "source": [
    "libs.get_ion_spectra()"
   ]
  },
  {
   "cell_type": "markdown",
   "id": "3a3c8df2",
   "metadata": {},
   "source": [
    "####  Save interpolated data to csv file"
   ]
  },
  {
   "cell_type": "code",
   "execution_count": 12,
   "id": "da7a718c",
   "metadata": {},
   "outputs": [],
   "source": [
    "libs.save_to_csv('single_simulation.csv')"
   ]
  },
  {
   "cell_type": "markdown",
   "id": "667e0470",
   "metadata": {},
   "source": [
    "### Single simulation - dynamic webscraping"
   ]
  },
  {
   "cell_type": "code",
   "execution_count": null,
   "id": "66d47eae",
   "metadata": {},
   "outputs": [],
   "source": [
    "libs_dynamic = simulation.SimulatedLIBS(Te=1.2, Ne=10**17, elements=['Fe','Mo','Ni','Cr'], percentages=[90,5,3,2], resolution=3000, low_w=200, upper_w=1000, webscraping='dynamic')"
   ]
  },
  {
   "cell_type": "code",
   "execution_count": null,
   "id": "9e4cad4e",
   "metadata": {},
   "outputs": [],
   "source": [
    "print(libs_dynamic)"
   ]
  },
  {
   "cell_type": "code",
   "execution_count": null,
   "id": "a37c7807",
   "metadata": {},
   "outputs": [],
   "source": [
    "repr(libs_dynamic)"
   ]
  },
  {
   "cell_type": "code",
   "execution_count": null,
   "id": "70610044",
   "metadata": {},
   "outputs": [],
   "source": [
    "libs_dynamic.plot()"
   ]
  },
  {
   "cell_type": "code",
   "execution_count": null,
   "id": "2dbfcf6c",
   "metadata": {},
   "outputs": [],
   "source": [
    "libs_dynamic.get_raw_spectrum()"
   ]
  },
  {
   "cell_type": "code",
   "execution_count": null,
   "id": "dd5cee13",
   "metadata": {},
   "outputs": [],
   "source": [
    "libs_dynamic.get_ion_spectra()"
   ]
  },
  {
   "cell_type": "code",
   "execution_count": null,
   "id": "0f54cd3e",
   "metadata": {},
   "outputs": [],
   "source": [
    "libs_dynamic.plot_ion_spectra()"
   ]
  },
  {
   "cell_type": "code",
   "execution_count": null,
   "id": "127dab5f",
   "metadata": {},
   "outputs": [],
   "source": []
  }
 ],
 "metadata": {
  "kernelspec": {
   "display_name": "Python 3 (ipykernel)",
   "language": "python",
   "name": "python3"
  },
  "language_info": {
   "codemirror_mode": {
    "name": "ipython",
    "version": 3
   },
   "file_extension": ".py",
   "mimetype": "text/x-python",
   "name": "python",
   "nbconvert_exporter": "python",
   "pygments_lexer": "ipython3",
   "version": "3.9.7"
  }
 },
 "nbformat": 4,
 "nbformat_minor": 5
}
